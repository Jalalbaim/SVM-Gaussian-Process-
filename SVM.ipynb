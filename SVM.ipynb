{
 "cells": [
  {
   "cell_type": "markdown",
   "metadata": {},
   "source": [
    "# SVM on MNIST dataset \n",
    "@author BAIM Mohamed Jalal"
   ]
  },
  {
   "cell_type": "code",
   "execution_count": 26,
   "metadata": {},
   "outputs": [],
   "source": [
    "# paths\n",
    "path_x_train = '../data/X_train.csv'\n",
    "path_x_test = '../data/X_test.csv'\n",
    "path_y_train = '../data/y_train.csv'\n",
    "path_y_test = '../data/y_test.csv'"
   ]
  },
  {
   "cell_type": "code",
   "execution_count": 27,
   "metadata": {},
   "outputs": [
    {
     "name": "stdout",
     "output_type": "stream",
     "text": [
      "Loading training images...\n",
      "Loading training labels...\n",
      "Loading test images...\n",
      "Loading test labels...\n",
      "X_train shape: (5000, 784)\n",
      "Y_train shape: (5000,)\n",
      "X_test shape: (2500, 784)\n",
      "Y_test shape: (2500,)\n"
     ]
    },
    {
     "data": {
      "image/png": "[encoded data removed]",
      "text/plain": [
       "<Figure size 2000x2000 with 5 Axes>"
      ]
     },
     "metadata": {},
     "output_type": "display_data"
    },
    {
     "name": "stdout",
     "output_type": "stream",
     "text": [
      "Training Kernel: 0 (linear)\n",
      "AttributeError: Module 'scipy' has no attribute 'ndarray'\n",
      "Ensure scipy and numpy are up-to-date.\n"
     ]
    },
    {
     "ename": "AttributeError",
     "evalue": "Module 'scipy' has no attribute 'ndarray'",
     "output_type": "error",
     "traceback": [
      "\u001b[1;31m---------------------------------------------------------------------------\u001b[0m",
      "\u001b[1;31mKeyError\u001b[0m                                  Traceback (most recent call last)",
      "File \u001b[1;32mc:\\Users\\JALAL\\anaconda3\\Lib\\site-packages\\scipy\\__init__.py:137\u001b[0m, in \u001b[0;36m__getattr__\u001b[1;34m(name)\u001b[0m\n\u001b[0;32m    136\u001b[0m \u001b[39mtry\u001b[39;00m:\n\u001b[1;32m--> 137\u001b[0m     \u001b[39mreturn\u001b[39;00m \u001b[39mglobals\u001b[39;49m()[name]\n\u001b[0;32m    138\u001b[0m \u001b[39mexcept\u001b[39;00m \u001b[39mKeyError\u001b[39;00m:\n",
      "\u001b[1;31mKeyError\u001b[0m: 'ndarray'",
      "\nDuring handling of the above exception, another exception occurred:\n",
      "\u001b[1;31mAttributeError\u001b[0m                            Traceback (most recent call last)",
      "\u001b[1;32mc:\\Users\\JALAL\\OneDrive\\Bureau\\Machine learning\\HW5\\SVM-Gaussian-Process-\\SVM.ipynb Cell 3\u001b[0m line \u001b[0;36m1\n\u001b[0;32m     <a href='vscode-notebook-cell:/c%3A/Users/JALAL/OneDrive/Bureau/Machine%20learning/HW5/SVM-Gaussian-Process-/SVM.ipynb#W3sZmlsZQ%3D%3D?line=97'>98</a>\u001b[0m \u001b[39mfor\u001b[39;00m kernel \u001b[39min\u001b[39;00m \u001b[39mrange\u001b[39m(\u001b[39m3\u001b[39m):\n\u001b[0;32m     <a href='vscode-notebook-cell:/c%3A/Users/JALAL/OneDrive/Bureau/Machine%20learning/HW5/SVM-Gaussian-Process-/SVM.ipynb#W3sZmlsZQ%3D%3D?line=98'>99</a>\u001b[0m     \u001b[39mprint\u001b[39m(\u001b[39mf\u001b[39m\u001b[39m'\u001b[39m\u001b[39mTraining Kernel: \u001b[39m\u001b[39m{\u001b[39;00mkernel\u001b[39m}\u001b[39;00m\u001b[39m (\u001b[39m\u001b[39m{\u001b[39;00mkernel_types[kernel]\u001b[39m}\u001b[39;00m\u001b[39m)\u001b[39m\u001b[39m'\u001b[39m)\n\u001b[1;32m--> <a href='vscode-notebook-cell:/c%3A/Users/JALAL/OneDrive/Bureau/Machine%20learning/HW5/SVM-Gaussian-Process-/SVM.ipynb#W3sZmlsZQ%3D%3D?line=99'>100</a>\u001b[0m     model \u001b[39m=\u001b[39m train(Y_train, X_train, kernel)\n\u001b[0;32m    <a href='vscode-notebook-cell:/c%3A/Users/JALAL/OneDrive/Bureau/Machine%20learning/HW5/SVM-Gaussian-Process-/SVM.ipynb#W3sZmlsZQ%3D%3D?line=100'>101</a>\u001b[0m     p_label, p_acc, p_val \u001b[39m=\u001b[39m test(Y_test, X_test, model)\n\u001b[0;32m    <a href='vscode-notebook-cell:/c%3A/Users/JALAL/OneDrive/Bureau/Machine%20learning/HW5/SVM-Gaussian-Process-/SVM.ipynb#W3sZmlsZQ%3D%3D?line=101'>102</a>\u001b[0m     \u001b[39mprint\u001b[39m(\u001b[39mf\u001b[39m\u001b[39m'\u001b[39m\u001b[39mAccuracy for \u001b[39m\u001b[39m{\u001b[39;00mkernel_types[kernel]\u001b[39m}\u001b[39;00m\u001b[39m kernel: \u001b[39m\u001b[39m{\u001b[39;00mp_acc[\u001b[39m0\u001b[39m]\u001b[39m}\u001b[39;00m\u001b[39m%\u001b[39m\u001b[39m\\n\u001b[39;00m\u001b[39m'\u001b[39m)\n",
      "\u001b[1;32mc:\\Users\\JALAL\\OneDrive\\Bureau\\Machine learning\\HW5\\SVM-Gaussian-Process-\\SVM.ipynb Cell 3\u001b[0m line \u001b[0;36m6\n\u001b[0;32m     <a href='vscode-notebook-cell:/c%3A/Users/JALAL/OneDrive/Bureau/Machine%20learning/HW5/SVM-Gaussian-Process-/SVM.ipynb#W3sZmlsZQ%3D%3D?line=60'>61</a>\u001b[0m     X \u001b[39m=\u001b[39m X\u001b[39m.\u001b[39mtolist()\n\u001b[0;32m     <a href='vscode-notebook-cell:/c%3A/Users/JALAL/OneDrive/Bureau/Machine%20learning/HW5/SVM-Gaussian-Process-/SVM.ipynb#W3sZmlsZQ%3D%3D?line=61'>62</a>\u001b[0m \u001b[39mtry\u001b[39;00m:\n\u001b[1;32m---> <a href='vscode-notebook-cell:/c%3A/Users/JALAL/OneDrive/Bureau/Machine%20learning/HW5/SVM-Gaussian-Process-/SVM.ipynb#W3sZmlsZQ%3D%3D?line=62'>63</a>\u001b[0m     \u001b[39mreturn\u001b[39;00m svmutil\u001b[39m.\u001b[39;49msvm_train(Y, X, \u001b[39mf\u001b[39;49m\u001b[39m'\u001b[39;49m\u001b[39m-t \u001b[39;49m\u001b[39m{\u001b[39;49;00mkernel\u001b[39m}\u001b[39;49;00m\u001b[39m -q\u001b[39;49m\u001b[39m'\u001b[39;49m)\n\u001b[0;32m     <a href='vscode-notebook-cell:/c%3A/Users/JALAL/OneDrive/Bureau/Machine%20learning/HW5/SVM-Gaussian-Process-/SVM.ipynb#W3sZmlsZQ%3D%3D?line=63'>64</a>\u001b[0m \u001b[39mexcept\u001b[39;00m \u001b[39mAttributeError\u001b[39;00m \u001b[39mas\u001b[39;00m e:\n\u001b[0;32m     <a href='vscode-notebook-cell:/c%3A/Users/JALAL/OneDrive/Bureau/Machine%20learning/HW5/SVM-Gaussian-Process-/SVM.ipynb#W3sZmlsZQ%3D%3D?line=64'>65</a>\u001b[0m     \u001b[39mprint\u001b[39m(\u001b[39m\"\u001b[39m\u001b[39mAttributeError:\u001b[39m\u001b[39m\"\u001b[39m, e)\n",
      "File \u001b[1;32mc:\\Users\\JALAL\\anaconda3\\Lib\\site-packages\\libsvm\\svmutil.py:89\u001b[0m, in \u001b[0;36msvm_train\u001b[1;34m(arg1, arg2, arg3)\u001b[0m\n\u001b[0;32m     87\u001b[0m \ty, x, options \u001b[39m=\u001b[39m arg1, arg2, arg3\n\u001b[0;32m     88\u001b[0m \tparam \u001b[39m=\u001b[39m svm_parameter(options)\n\u001b[1;32m---> 89\u001b[0m \tprob \u001b[39m=\u001b[39m svm_problem(y, x, isKernel\u001b[39m=\u001b[39;49m(param\u001b[39m.\u001b[39;49mkernel_type \u001b[39m==\u001b[39;49m PRECOMPUTED))\n\u001b[0;32m     90\u001b[0m \u001b[39melif\u001b[39;00m \u001b[39misinstance\u001b[39m(arg1, svm_problem):\n\u001b[0;32m     91\u001b[0m \tprob \u001b[39m=\u001b[39m arg1\n",
      "File \u001b[1;32mc:\\Users\\JALAL\\anaconda3\\Lib\\site-packages\\libsvm\\svm.py:220\u001b[0m, in \u001b[0;36msvm_problem.__init__\u001b[1;34m(self, y, x, isKernel)\u001b[0m\n\u001b[0;32m    218\u001b[0m \u001b[39melse\u001b[39;00m:\n\u001b[0;32m    219\u001b[0m     \u001b[39mfor\u001b[39;00m i, xi \u001b[39min\u001b[39;00m \u001b[39menumerate\u001b[39m(x):\n\u001b[1;32m--> 220\u001b[0m         tmp_xi, tmp_idx \u001b[39m=\u001b[39m gen_svm_nodearray(xi, isKernel\u001b[39m=\u001b[39;49misKernel)\n\u001b[0;32m    221\u001b[0m         x_space \u001b[39m+\u001b[39m\u001b[39m=\u001b[39m [tmp_xi]\n\u001b[0;32m    222\u001b[0m         max_idx \u001b[39m=\u001b[39m \u001b[39mmax\u001b[39m(max_idx, tmp_idx)\n",
      "File \u001b[1;32mc:\\Users\\JALAL\\anaconda3\\Lib\\site-packages\\libsvm\\svm.py:91\u001b[0m, in \u001b[0;36mgen_svm_nodearray\u001b[1;34m(xi, feature_max, isKernel)\u001b[0m\n\u001b[0;32m     89\u001b[0m     \u001b[39mif\u001b[39;00m feature_max:\n\u001b[0;32m     90\u001b[0m         index_range \u001b[39m=\u001b[39m index_range[scipy\u001b[39m.\u001b[39mwhere(index_range \u001b[39m<\u001b[39m\u001b[39m=\u001b[39m feature_max)]\n\u001b[1;32m---> 91\u001b[0m \u001b[39melif\u001b[39;00m scipy \u001b[39mand\u001b[39;00m \u001b[39misinstance\u001b[39m(xi, scipy\u001b[39m.\u001b[39;49mndarray):\n\u001b[0;32m     92\u001b[0m     \u001b[39mif\u001b[39;00m \u001b[39mnot\u001b[39;00m isKernel:\n\u001b[0;32m     93\u001b[0m         xi_shift \u001b[39m=\u001b[39m \u001b[39m1\u001b[39m\n",
      "File \u001b[1;32mc:\\Users\\JALAL\\anaconda3\\Lib\\site-packages\\scipy\\__init__.py:139\u001b[0m, in \u001b[0;36m__getattr__\u001b[1;34m(name)\u001b[0m\n\u001b[0;32m    137\u001b[0m     \u001b[39mreturn\u001b[39;00m \u001b[39mglobals\u001b[39m()[name]\n\u001b[0;32m    138\u001b[0m \u001b[39mexcept\u001b[39;00m \u001b[39mKeyError\u001b[39;00m:\n\u001b[1;32m--> 139\u001b[0m     \u001b[39mraise\u001b[39;00m \u001b[39mAttributeError\u001b[39;00m(\n\u001b[0;32m    140\u001b[0m         \u001b[39mf\u001b[39m\u001b[39m\"\u001b[39m\u001b[39mModule \u001b[39m\u001b[39m'\u001b[39m\u001b[39mscipy\u001b[39m\u001b[39m'\u001b[39m\u001b[39m has no attribute \u001b[39m\u001b[39m'\u001b[39m\u001b[39m{\u001b[39;00mname\u001b[39m}\u001b[39;00m\u001b[39m'\u001b[39m\u001b[39m\"\u001b[39m\n\u001b[0;32m    141\u001b[0m     )\n",
      "\u001b[1;31mAttributeError\u001b[0m: Module 'scipy' has no attribute 'ndarray'"
     ]
    }
   ],
   "source": [
    "import numpy as np\n",
    "import matplotlib.pyplot as plt\n",
    "from libsvm import svmutil\n",
    "\n",
    "def load_data(x_train_filepath, y_train_filepath, x_test_filepath, y_test_filepath):\n",
    "    \"\"\"\n",
    "    Loads training and testing data from given file paths.\n",
    "\n",
    "    Parameters:\n",
    "    - x_train_filepath: Path to the training images file.\n",
    "    - y_train_filepath: Path to the training labels file.\n",
    "    - x_test_filepath: Path to the testing images file.\n",
    "    - y_test_filepath: Path to the testing labels file.\n",
    "\n",
    "    Returns:\n",
    "    - X_train: NumPy array of training images.\n",
    "    - Y_train: NumPy array of training labels.\n",
    "    - X_test: NumPy array of testing images.\n",
    "    - Y_test: NumPy array of testing labels.\n",
    "    \"\"\"\n",
    "    \n",
    "    print('Loading training images...')\n",
    "    X_train = np.loadtxt(x_train_filepath, delimiter=',')\n",
    "    \n",
    "    print('Loading training labels...')\n",
    "    Y_train = np.loadtxt(y_train_filepath, dtype=int)\n",
    "    \n",
    "    print('Loading test images...')\n",
    "    X_test = np.loadtxt(x_test_filepath, delimiter=',')\n",
    "    \n",
    "    print('Loading test labels...')\n",
    "    Y_test = np.loadtxt(y_test_filepath, dtype=int)\n",
    "    \n",
    "    return X_train, Y_train, X_test, Y_test\n",
    "\n",
    "\n",
    "def plot_images(images, labels, num_images=5):\n",
    "    \"\"\"\n",
    "    Plots the first num_images images from the given dataset.\n",
    "\n",
    "    Parameters:\n",
    "    - images: NumPy array of images.\n",
    "    - labels: NumPy array of labels.\n",
    "    - num_images: Number of images to plot.\n",
    "    \"\"\"\n",
    "    \n",
    "    fig, axes = plt.subplots(1, num_images, figsize=(20, 20))\n",
    "    \n",
    "    for i in range(num_images):\n",
    "        axes[i].imshow(images[i].reshape(28, 28), cmap='gray')\n",
    "        axes[i].set_title('Label: %d' % labels[i])\n",
    "        axes[i].axis('off')\n",
    "\n",
    "    plt.show()\n",
    "\n",
    "def train(Y, X, kernel):\n",
    "    # Convert lists if necessary\n",
    "    if isinstance(Y, np.ndarray):\n",
    "        Y = Y.tolist()\n",
    "    if isinstance(X, np.ndarray):\n",
    "        X = X.tolist()\n",
    "    try:\n",
    "        return svmutil.svm_train(Y, X, f'-t {kernel} -q')\n",
    "    except AttributeError as e:\n",
    "        print(\"AttributeError:\", e)\n",
    "        print(\"Ensure scipy and numpy are up-to-date.\")\n",
    "        raise\n",
    "\n",
    "def test(Y, X, model):\n",
    "    # Convert lists if necessary\n",
    "    if isinstance(Y, np.ndarray):\n",
    "        Y = Y.tolist()\n",
    "    if isinstance(X, np.ndarray):\n",
    "        X = X.tolist()\n",
    "    return svmutil.svm_predict(Y, X, model)\n",
    "\n",
    "\n",
    "# Load data\n",
    "X_train, Y_train, X_test, Y_test = load_data(path_x_train, path_y_train, path_x_test, path_y_test)\n",
    "\n",
    "\n",
    "print('X_train shape:', X_train.shape)\n",
    "print('Y_train shape:', Y_train.shape)\n",
    "print('X_test shape:', X_test.shape)\n",
    "print('Y_test shape:', Y_test.shape)\n",
    "\n",
    "# Plot images\n",
    "plot_images(X_train, Y_train)\n",
    "\n",
    "# Define kernel types\n",
    "kernel_types = {\n",
    "    0: 'linear',      # Linear kernel\n",
    "    1: 'polynomial',  # Polynomial kernel\n",
    "    2: 'rbf'          # RBF kernel\n",
    "}\n",
    "\n",
    "# Iterate over kernel types\n",
    "for kernel in range(3):\n",
    "    print(f'Training Kernel: {kernel} ({kernel_types[kernel]})')\n",
    "    model = train(Y_train, X_train, kernel)\n",
    "    p_label, p_acc, p_val = test(Y_test, X_test, model)\n",
    "    print(f'Accuracy for {kernel_types[kernel]} kernel: {p_acc[0]}%\\n')\n"
   ]
  },
  {
   "cell_type": "markdown",
   "metadata": {},
   "source": [
    "## Task 1: kernel func "
   ]
  }
 ],
 "metadata": {
  "kernelspec": {
   "display_name": "Python 3",
   "language": "python",
   "name": "python3"
  },
  "language_info": {
   "codemirror_mode": {
    "name": "ipython",
    "version": 3
   },
   "file_extension": ".py",
   "mimetype": "text/x-python",
   "name": "python",
   "nbconvert_exporter": "python",
   "pygments_lexer": "ipython3",
   "version": "3.11.9"
  }
 },
 "nbformat": 4,
 "nbformat_minor": 2
}
