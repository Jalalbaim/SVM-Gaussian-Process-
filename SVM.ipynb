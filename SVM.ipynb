{
 "cells": [
  {
   "cell_type": "markdown",
   "metadata": {},
   "source": [
    "# SVM on MNIST dataset \n",
    "@author BAIM Mohamed Jalal"
   ]
  },
  {
   "cell_type": "code",
   "execution_count": 3,
   "metadata": {},
   "outputs": [],
   "source": [
    "# paths\n",
    "path_x_train = '../data/X_train.csv'\n",
    "path_x_test = '../data/X_test.csv'\n",
    "path_y_train = '../data/y_train.csv'\n",
    "path_y_test = '../data/y_test.csv'"
   ]
  },
  {
   "cell_type": "code",
   "execution_count": 4,
   "metadata": {},
   "outputs": [],
   "source": [
    "# libraries\n",
    "import numpy as np\n",
    "import csv\n",
    "from libsvm.svmutil import *"
   ]
  },
  {
   "cell_type": "markdown",
   "metadata": {},
   "source": [
    "## Task 1: kernel func "
   ]
  },
  {
   "cell_type": "code",
   "execution_count": 5,
   "metadata": {},
   "outputs": [],
   "source": [
    "KERNEL = {\n",
    "    'linear': 0, \n",
    "    'polynomial': 1, \n",
    "    'RBF': 2, \n",
    "}"
   ]
  },
  {
   "cell_type": "code",
   "execution_count": 11,
   "metadata": {},
   "outputs": [
    {
     "name": "stdout",
     "output_type": "stream",
     "text": [
      "Data loaded\n",
      "X_train shape: (5000, 784)\n",
      "y_train shape: 5000\n",
      "X_test shape: (2500, 784)\n",
      "y_test shape: 2500\n"
     ]
    }
   ],
   "source": [
    "def load_data(X_train_path, y_train_path, X_test_path, y_test_path):\n",
    "    X_train = np.zeros((0, 784))\n",
    "    y_train = []\n",
    "    X_test = np.zeros((0, 784))\n",
    "    y_test = []\n",
    "\n",
    "    with open(X_train_path, 'r') as f:\n",
    "        reader = csv.reader(f)\n",
    "        for row in reader:\n",
    "            X_train = np.vstack([X_train, np.array(row).astype(float)])\n",
    "    with open(y_train_path, 'r') as f:\n",
    "        reader = csv.reader(f)\n",
    "        for row in reader:\n",
    "            y_train.append(int(row[0]))\n",
    "    with open(X_test_path, 'r') as f:\n",
    "        reader = csv.reader(f)\n",
    "        for row in reader:\n",
    "            X_test = np.vstack([X_test, np.array(row).astype(float)])\n",
    "    with open(y_test_path, 'r') as f:\n",
    "        reader = csv.reader(f)\n",
    "        for row in reader:\n",
    "            y_test.append(int(row[0]))\n",
    "\n",
    "    return X_train, y_train, X_test, y_test\n",
    "\n",
    "X_train, y_train, X_test, y_test = load_data(path_x_train, path_y_train, path_x_test, path_y_test)\n",
    "\n",
    "print('Data loaded')\n",
    "print('X_train shape:', X_train.shape)\n",
    "print('y_train shape:', len(y_train))\n",
    "print('X_test shape:', X_test.shape)\n",
    "print('y_test shape:', len(y_test))"
   ]
  },
  {
   "cell_type": "code",
   "execution_count": 14,
   "metadata": {},
   "outputs": [
    {
     "name": "stdout",
     "output_type": "stream",
     "text": [
      "Training with linear kernel\n",
      "Accuracy = 95.08% (2377/2500) (classification)\n",
      "Accuracy: 95.08 %\n",
      "\n",
      "Training with polynomial kernel\n",
      "Accuracy = 34.68% (867/2500) (classification)\n",
      "Accuracy: 34.68 %\n",
      "\n",
      "Training with RBF kernel\n",
      "Accuracy = 95.32% (2383/2500) (classification)\n",
      "Accuracy: 95.32000000000001 %\n",
      "\n"
     ]
    }
   ],
   "source": [
    "# Train using different kernels\n",
    "\n",
    "for kernel_name, kernel in KERNEL.items():\n",
    "    print('Training with', kernel_name, 'kernel')\n",
    "    model = svm_train(y_train, X_train, '-t {} -q'.format(kernel))\n",
    "    p_label, p_acc, p_val = svm_predict(y_test, X_test, model)\n",
    "    print('Accuracy:', p_acc[0], '%')\n",
    "    print('')"
   ]
  }
 ],
 "metadata": {
  "kernelspec": {
   "display_name": "Python 3",
   "language": "python",
   "name": "python3"
  },
  "language_info": {
   "codemirror_mode": {
    "name": "ipython",
    "version": 3
   },
   "file_extension": ".py",
   "mimetype": "text/x-python",
   "name": "python",
   "nbconvert_exporter": "python",
   "pygments_lexer": "ipython3",
   "version": "3.11.9"
  }
 },
 "nbformat": 4,
 "nbformat_minor": 2
}
